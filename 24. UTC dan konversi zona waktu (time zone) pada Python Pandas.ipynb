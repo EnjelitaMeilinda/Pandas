{
 "cells": [
  {
   "cell_type": "markdown",
   "id": "201c8f69-8ac6-498a-b68d-0241afe11804",
   "metadata": {},
   "source": [
    "# 24: UTC dan konversi zona waktu (time zone) pada Python Pandas"
   ]
  },
  {
   "cell_type": "markdown",
   "id": "ae0972fe-9d70-4a70-a8ec-699e4014c810",
   "metadata": {},
   "source": [
    "\"Enjelita Meilinda - 2373037\"\n",
    "# Import Modules"
   ]
  },
  {
   "cell_type": "code",
   "execution_count": 2,
   "id": "a2755e3f-a405-4bd8-9184-e5a61eb17e02",
   "metadata": {},
   "outputs": [
    {
     "name": "stdout",
     "output_type": "stream",
     "text": [
      "2.1.4\n"
     ]
    }
   ],
   "source": [
    "import pandas as pd\n",
    "\n",
    "print(pd.__version__)"
   ]
  },
  {
   "cell_type": "markdown",
   "id": "3e31a486-b2d1-4b47-8966-2eae4b03c477",
   "metadata": {},
   "source": [
    "# Persiapan Series"
   ]
  },
  {
   "cell_type": "code",
   "execution_count": 3,
   "id": "18778271-b46f-4ed0-a776-bf4788186966",
   "metadata": {},
   "outputs": [
    {
     "data": {
      "text/plain": [
       "0   2020-06-09 06:18:41\n",
       "1   2020-06-09 07:18:41\n",
       "2   2020-06-09 08:18:41\n",
       "3   2020-06-09 09:18:41\n",
       "4   2020-06-09 10:18:41\n",
       "dtype: datetime64[ns]"
      ]
     },
     "execution_count": 3,
     "metadata": {},
     "output_type": "execute_result"
    }
   ],
   "source": [
    "s = pd.Series(range(1591683521, 1592201921, 3600))\n",
    "s = pd.to_datetime(s, unit='s')\n",
    "s.head()"
   ]
  },
  {
   "cell_type": "markdown",
   "id": "d6ccba02-e0d3-4ab1-9ede-dddbae3b45c9",
   "metadata": {},
   "source": [
    "# Pengaturan zona waktu (time zone)"
   ]
  },
  {
   "cell_type": "code",
   "execution_count": 4,
   "id": "aae1df48-aeae-4fb0-818c-655b2aa56e4e",
   "metadata": {},
   "outputs": [
    {
     "data": {
      "text/plain": [
       "0   2020-06-09 06:18:41+00:00\n",
       "1   2020-06-09 07:18:41+00:00\n",
       "2   2020-06-09 08:18:41+00:00\n",
       "3   2020-06-09 09:18:41+00:00\n",
       "4   2020-06-09 10:18:41+00:00\n",
       "dtype: datetime64[ns, UTC]"
      ]
     },
     "execution_count": 4,
     "metadata": {},
     "output_type": "execute_result"
    }
   ],
   "source": [
    "s = s.dt.tz_localize('UTC')\n",
    "s.head()"
   ]
  },
  {
   "cell_type": "code",
   "execution_count": 4,
   "id": "b78cc5b7-2a23-429a-b359-49cf099c5111",
   "metadata": {},
   "outputs": [
    {
     "data": {
      "text/plain": [
       "0   2020-06-09 13:18:41+07:00\n",
       "1   2020-06-09 14:18:41+07:00\n",
       "2   2020-06-09 15:18:41+07:00\n",
       "3   2020-06-09 16:18:41+07:00\n",
       "4   2020-06-09 17:18:41+07:00\n",
       "dtype: datetime64[ns, Asia/Jakarta]"
      ]
     },
     "execution_count": 4,
     "metadata": {},
     "output_type": "execute_result"
    }
   ],
   "source": [
    "s = s.dt.tz_convert('Asia/Jakarta')\n",
    "s.head()"
   ]
  },
  {
   "cell_type": "code",
   "execution_count": 5,
   "id": "2244fc16-c6d8-41f7-85d9-ce8895882bde",
   "metadata": {},
   "outputs": [
    {
     "data": {
      "text/plain": [
       "0   2020-06-09 16:18:41+10:00\n",
       "1   2020-06-09 17:18:41+10:00\n",
       "2   2020-06-09 18:18:41+10:00\n",
       "3   2020-06-09 19:18:41+10:00\n",
       "4   2020-06-09 20:18:41+10:00\n",
       "dtype: datetime64[ns, Australia/Hobart]"
      ]
     },
     "execution_count": 5,
     "metadata": {},
     "output_type": "execute_result"
    }
   ],
   "source": [
    "s = s.dt.tz_convert('Australia/Hobart')\n",
    "s.head()"
   ]
  }
 ],
 "metadata": {
  "kernelspec": {
   "display_name": "Python 3 (ipykernel)",
   "language": "python",
   "name": "python3"
  },
  "language_info": {
   "codemirror_mode": {
    "name": "ipython",
    "version": 3
   },
   "file_extension": ".py",
   "mimetype": "text/x-python",
   "name": "python",
   "nbconvert_exporter": "python",
   "pygments_lexer": "ipython3",
   "version": "3.11.7"
  }
 },
 "nbformat": 4,
 "nbformat_minor": 5
}
